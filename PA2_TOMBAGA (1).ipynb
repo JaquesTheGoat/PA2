{
 "cells": [
  {
   "cell_type": "markdown",
   "id": "b18996d2-13bb-40d8-b90b-e4f1a8971c82",
   "metadata": {},
   "source": [
    "### **1. NORMALIZATION PROBLEM**"
   ]
  },
  {
   "cell_type": "markdown",
   "id": "6a9ea39d-18b4-4ab1-a995-58653b6d08ac",
   "metadata": {},
   "source": [
    "##### **A randomly generated 5x5 array is required to be normalized for this task. To normalize the random array, first produce it, then center it by subtracting the mean, then scale it by dividing it by the standard deviation. Save the normalized array to a file named `X_normalized.npy}.**"
   ]
  },
  {
   "cell_type": "code",
   "execution_count": 18,
   "id": "d5d6b149-63c3-4d97-b963-9981816b5633",
   "metadata": {},
   "outputs": [
    {
     "name": "stdout",
     "output_type": "stream",
     "text": [
      "\n",
      "Original Array:\n",
      " [[0.57576189 0.00261795 0.59497504 0.81498954 0.62487186]\n",
      " [0.45682199 0.98118398 0.07592558 0.49673059 0.29270297]\n",
      " [0.433539   0.29508924 0.21695624 0.26992841 0.61749566]\n",
      " [0.19926894 0.03431943 0.94627086 0.38320261 0.37182974]\n",
      " [0.58350594 0.5705159  0.85258354 0.92892371 0.27469084]]\n",
      "\n",
      "Normalized Array:\n",
      " [[ 0.36081417 -1.70771168  0.43015609  1.22420734  0.53805627]\n",
      " [-0.06845016  1.82401738 -1.4431381   0.0755834  -0.66076983]\n",
      " [-0.15248051 -0.6521576  -0.93414632 -0.74296519  0.51143492]\n",
      " [-0.99798132 -1.59329829  1.69801294 -0.33414884 -0.37519453]\n",
      " [ 0.38876312  0.34188094  1.35988735  1.63540559 -0.72577717]]\n"
     ]
    }
   ],
   "source": [
    "import numpy as np\n",
    "\n",
    "# Create a 5x5 random values\n",
    "X = np.random.random((5, 5))\n",
    "\n",
    "# Calculate the mean and standard deviation\n",
    "X_mean = np.mean(X)\n",
    "X_std = np.std(X)\n",
    "\n",
    "# Standardize the matrix\n",
    "X_normalized = (X - X_mean) / X_std\n",
    "\n",
    "# Save the standardized matrix\n",
    "np.save('X_normalized.npy', X_normalized)\n",
    "\n",
    "# Load and display the saved data\n",
    "print(\"\\nOriginal Array:\\n\", X)\n",
    "print(\"\\nNormalized Array:\\n\", X_normalized)\n",
    "\n"
   ]
  },
  {
   "cell_type": "code",
   "execution_count": null,
   "id": "e4e39c9f-4076-434a-96ab-d6328104fe87",
   "metadata": {},
   "outputs": [],
   "source": []
  },
  {
   "cell_type": "markdown",
   "id": "8e9750f8-a12b-48d4-ba46-3a041d9b1ea6",
   "metadata": {},
   "source": [
    "### **2. DIVISIBLE BY 3 PROBLEM**"
   ]
  },
  {
   "cell_type": "markdown",
   "id": "28bf6a23-2d7b-487b-b311-9b0544336d5c",
   "metadata": {},
   "source": [
    "##### **The task is to create a 10x10 array containing the squares of the initial 100 positive integers. Finding every element in the array divisible by three is the aim, and the elements saved in a file named `div_by_3.npy` are the result.**"
   ]
  },
  {
   "cell_type": "code",
   "execution_count": 9,
   "id": "ff86b02b-ec3a-4211-a5eb-e6053346bfba",
   "metadata": {},
   "outputs": [
    {
     "data": {
      "text/plain": [
       "array([   9,   36,   81,  144,  225,  324,  441,  576,  729,  900, 1089,\n",
       "       1296, 1521, 1764, 2025, 2304, 2601, 2916, 3249, 3600, 3969, 4356,\n",
       "       4761, 5184, 5625, 6084, 6561, 7056, 7569, 8100, 8649, 9216, 9801])"
      ]
     },
     "execution_count": 9,
     "metadata": {},
     "output_type": "execute_result"
    }
   ],
   "source": [
    "import numpy as np\n",
    "\n",
    "# Generate random positive integer from 1 to 100\n",
    "squares = np.arange(1, 101)**2\n",
    "\n",
    "# Reshape into a 10x10 matrix\n",
    "squares_10x10 = squares.reshape(10, 10)\n",
    "\n",
    "# Extract elements divisible by 3\n",
    "div_by_3 = squares_10x10[squares_10x10 % 3 == 0]\n",
    "\n",
    "# Save the result to a file\n",
    "np.save('div_by_3.npy', div_by_3)\n",
    "\n",
    "# Load and display the saved data\n",
    "data = np.load('div_by_3.npy')\n",
    "data\n"
   ]
  },
  {
   "cell_type": "code",
   "execution_count": null,
   "id": "abc3caf1-a4cb-4e9e-b0e8-84e48205bbde",
   "metadata": {},
   "outputs": [],
   "source": []
  }
 ],
 "metadata": {
  "kernelspec": {
   "display_name": "anaconda-panel-2023.05-py310",
   "language": "python",
   "name": "conda-env-anaconda-panel-2023.05-py310-py"
  },
  "language_info": {
   "codemirror_mode": {
    "name": "ipython",
    "version": 3
   },
   "file_extension": ".py",
   "mimetype": "text/x-python",
   "name": "python",
   "nbconvert_exporter": "python",
   "pygments_lexer": "ipython3",
   "version": "3.11.5"
  }
 },
 "nbformat": 4,
 "nbformat_minor": 5
}
